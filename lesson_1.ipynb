{
 "cells": [
  {
   "cell_type": "markdown",
   "id": "dbe7fd41",
   "metadata": {},
   "source": [
    "**Задача 1**  \n",
    "Из колоды в 52 карты извлекаются случайным образом 4 карты.  \n",
    "**1. Найти вероятность того, что все карты – крести.**  \n",
    "**2. Найти вероятность, что среди 4-х карт окажется хотя бы один туз.**\n"
   ]
  },
  {
   "cell_type": "code",
   "execution_count": 1,
   "id": "b2b9eded",
   "metadata": {},
   "outputs": [],
   "source": [
    "import math"
   ]
  },
  {
   "cell_type": "code",
   "execution_count": 2,
   "id": "274f09b4",
   "metadata": {},
   "outputs": [],
   "source": [
    "# Карт в колоде\n",
    "deck = 52\n",
    "# количетсов попыток\n",
    "cards_count = 4"
   ]
  },
  {
   "cell_type": "markdown",
   "id": "0bba8289",
   "metadata": {},
   "source": [
    "**1. Найти вероятность того, что все карты – крести.**"
   ]
  },
  {
   "cell_type": "code",
   "execution_count": 3,
   "id": "c0e79d30",
   "metadata": {
    "scrolled": true
   },
   "outputs": [
    {
     "name": "stdout",
     "output_type": "stream",
     "text": [
      "Вероятность достать 1 крести подряд 0.25\n",
      "Вероятность достать 2 крести подряд 0.058823529411764705\n",
      "Вероятность достать 3 крести подряд 0.012941176470588235\n",
      "Вероятность достать 4 крести подряд 0.0026410564225690276\n",
      "Вероятность достать 5 крести подряд 0.0004951980792316927\n"
     ]
    }
   ],
   "source": [
    "# количество крестей в колоде\n",
    "сlubs = 13\n",
    "# Вероятность\n",
    "P = 1\n",
    "\n",
    "# имеем зависимые и несовместимые события\n",
    "for attempt in range(0, cards_count+1):\n",
    "    P *= (сlubs-attempt)/(deck-attempt)\n",
    "    print (f'Вероятность достать {attempt+1} крести подряд {P}')"
   ]
  },
  {
   "cell_type": "markdown",
   "id": "e5a638a2",
   "metadata": {},
   "source": [
    "**2. Найти вероятность, что среди 4-х карт окажется хотя бы один туз**"
   ]
  },
  {
   "cell_type": "code",
   "execution_count": 4,
   "id": "c494766a",
   "metadata": {},
   "outputs": [
    {
     "name": "stdout",
     "output_type": "stream",
     "text": [
      "Количество комбинаций с 1 тузом/ами из 4 карт = 13\n",
      "Количество комбинаций из для колоды из 48 карт 3 из которых не туз = 17296\n",
      "Количество комбинаций 4 из карт, среди которых не менее 1 туза/ов = 224848\n",
      "\n",
      "Количество комбинаций с 2 тузом/ами из 4 карт = 78\n",
      "Количество комбинаций из для колоды из 48 карт 2 из которых не туз = 1128\n",
      "Количество комбинаций 4 из карт, среди которых не менее 2 туза/ов = 87984\n",
      "\n",
      "Количество комбинаций с 3 тузом/ами из 4 карт = 286\n",
      "Количество комбинаций из для колоды из 48 карт 1 из которых не туз = 48\n",
      "Количество комбинаций 4 из карт, среди которых не менее 3 туза/ов = 13728\n",
      "\n",
      "Количество комбинаций с 4 тузом/ами из 4 карт = 715\n",
      "Количество комбинаций из для колоды из 48 карт 0 из которых не туз = 1\n",
      "Количество комбинаций 4 из карт, среди которых не менее 4 туза/ов = 715\n",
      "\n",
      "Всего комбинаций из 4 карт для колоды из 52 карт = 270725\n",
      "Всего комбинаций из 4 карт для колоды из 52 карт с хотя бы одним тузом = 327275\n",
      "\n",
      "Вероятность вытащить хотябы одного туза за 4 попыток из колоды в 52 карты = 1.2088835534213684\n"
     ]
    }
   ],
   "source": [
    "# количество тузов\n",
    "aces = 13\n",
    "C_total = 0\n",
    "remain_deck = deck - cards_count\n",
    "\n",
    "for ace_count in range(1, cards_count+1):\n",
    "    ace_comb1 = math.comb(aces, ace_count)\n",
    "    print(f'Количество комбинаций с {ace_count} тузом/ами из {cards_count} карт = {ace_comb1}')\n",
    "    \n",
    "    free_cards = cards_count-ace_count\n",
    "    remain_deck_comb1 = math.comb(remain_deck, free_cards)\n",
    "    print(f'Количество комбинаций из для колоды из {remain_deck} карт {free_cards} из которых не туз = {remain_deck_comb1}')\n",
    "    \n",
    "    C = ace_comb1 * remain_deck_comb1\n",
    "    print(f'Количество комбинаций {cards_count} из карт, среди которых не менее {ace_count} туза/ов = {C}\\n')\n",
    "    C_total += C\n",
    "    \n",
    "total_comb = math.comb(deck, cards_count)\n",
    "print(f'Всего комбинаций из {cards_count} карт для колоды из {deck} карт = {total_comb}')\n",
    "print(f'Всего комбинаций из {cards_count} карт для колоды из {deck} карт с хотя бы одним тузом = {C_total}')\n",
    "\n",
    "P = C_total/total_comb\n",
    "\n",
    "print (f'\\nВероятность вытащить хотябы одного туза за {cards_count} попыток из колоды в {deck} карты = {P}')"
   ]
  },
  {
   "cell_type": "markdown",
   "id": "42c5c78e",
   "metadata": {},
   "source": [
    "**Задача 2**\n",
    "\n",
    "На входной двери подъезда установлен кодовый замок, содержащий десять кнопок с цифрами от 0 до 9.  \n",
    "Код содержит три цифры, которые нужно нажать одновременно.\n",
    "\n",
    "**Какова вероятность того, что человек, не знающий код, откроет дверь с первой попытки?**"
   ]
  },
  {
   "cell_type": "code",
   "execution_count": 5,
   "id": "14d890a0",
   "metadata": {},
   "outputs": [
    {
     "name": "stdout",
     "output_type": "stream",
     "text": [
      "\n",
      "Количество возможных кобинаций 720\n",
      "\n",
      "Вероятность открыть кодовый замок 0.001388888888888889\n"
     ]
    }
   ],
   "source": [
    "# Количество цифр для одвременного вода\n",
    "code_nums_count = 3\n",
    "# Количество возможных символов\n",
    "code_nums = 10\n",
    "\n",
    "# правильный ответ только один, значит число благоприятных исходов 1\n",
    "desirable = 1\n",
    "# количество комбинаций определим по формуле размещения\n",
    "\n",
    "total_comb = math.perm(code_nums, code_nums_count)\n",
    "print (f'\\nКоличество возможных кобинаций {total_comb}')\n",
    "\n",
    "P = desirable/total_comb\n",
    "print (f'\\nВероятность открыть кодовый замок {P}')"
   ]
  },
  {
   "cell_type": "markdown",
   "id": "941727ff",
   "metadata": {},
   "source": [
    "**Задача 3**  \n",
    "В ящике имеется 15 деталей, из которых 9 окрашены. Рабочий случайным образом извлекает 3 детали.  \n",
    "**Какова вероятность того, что все извлеченные детали окрашены?**"
   ]
  },
  {
   "cell_type": "code",
   "execution_count": 6,
   "id": "52ca8dae",
   "metadata": {},
   "outputs": [
    {
     "name": "stdout",
     "output_type": "stream",
     "text": [
      "Вероятность дость 3 окрашеных детали подряд подряд 0.18461538461538457\n"
     ]
    }
   ],
   "source": [
    "# Деталей в ящике\n",
    "total_gears_count = 15\n",
    "# количетсов попыток\n",
    "attempts = 3\n",
    "# количество окрашеных деталей в ящике\n",
    "colored = 9\n",
    "# Вероятность\n",
    "P = 1\n",
    "\n",
    "# имеем зависимые и несовместимые события\n",
    "for attempt in range(0, attempts):\n",
    "    P *= (colored-attempt)/(total_gears_count-attempt)\n",
    "    \n",
    "print (f'Вероятность дость {attempts} окрашеных детали подряд подряд {P}')    "
   ]
  },
  {
   "cell_type": "markdown",
   "id": "bdf8150e",
   "metadata": {},
   "source": [
    "**Задача 4**  \n",
    "В лотерее 100 билетов. Из них 2 выигрышных.  \n",
    "**Какова вероятность того, что 2 приобретенных билета окажутся выигрышными?**"
   ]
  },
  {
   "cell_type": "code",
   "execution_count": 7,
   "id": "199ad991",
   "metadata": {},
   "outputs": [
    {
     "name": "stdout",
     "output_type": "stream",
     "text": [
      "Вероятность покупки 2 выигрыжных билетов из 2 среди 100 возможных равна 0.00020202020202020205\n"
     ]
    }
   ],
   "source": [
    "# Всего биллетов\n",
    "bills_counts = 100\n",
    "# Количество выигрышных биллетов\n",
    "winning_bills_counts = 2\n",
    "# Количество попыток\n",
    "attempts = 2\n",
    "# Вероятность\n",
    "P = 1\n",
    "\n",
    "# имеем зависимые и совместимые события\n",
    "for attempt in range(0, attempts):\n",
    "    P *= (winning_bills_counts - attempt)/(bills_counts-attempt)\n",
    "\n",
    "print (f'Вероятность покупки {attempts} выигрыжных билетов из {winning_bills_counts} среди {bills_counts} возможных равна {P}')"
   ]
  }
 ],
 "metadata": {
  "kernelspec": {
   "display_name": "Python 3 (ipykernel)",
   "language": "python",
   "name": "python3"
  },
  "language_info": {
   "codemirror_mode": {
    "name": "ipython",
    "version": 3
   },
   "file_extension": ".py",
   "mimetype": "text/x-python",
   "name": "python",
   "nbconvert_exporter": "python",
   "pygments_lexer": "ipython3",
   "version": "3.8.6"
  }
 },
 "nbformat": 4,
 "nbformat_minor": 5
}
