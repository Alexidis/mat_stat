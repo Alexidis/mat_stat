{
 "cells": [
  {
   "cell_type": "markdown",
   "id": "9a28cb4b",
   "metadata": {},
   "source": [
    "### Содержание\n",
    "* [1. Описание](#descr)\n",
    "* [2. Импорт библиотек](#libs)\n",
    "* [3. Подготовка данных](#preparations)\n",
    "* [4. Анализ условий применимости](#conditions)  \n",
    "* [5. Основной анализ](#main)  \n",
    "* [6. Вывод](#conclusion)  "
   ]
  },
  {
   "cell_type": "markdown",
   "id": "1500835e",
   "metadata": {},
   "source": [
    "## 1. Описание <a class='anchor' id='descr'>"
   ]
  },
  {
   "cell_type": "markdown",
   "id": "31e166df",
   "metadata": {},
   "source": [
    "https://www.kaggle.com/maliwan/video-games/data\n",
    "\n",
    "Выборка данных игровой платформы с Steam с информацией о проданных товарах.\n",
    "\n",
    "В списке товаров присутствую игры и программы.\n",
    "\n",
    "Проведем дисперсионный анализ о влиянии наличия внутрии игровых достижений на формирование стоимости игры.\n",
    "Нулевая гипотеза - внутриигровые достижения влияют на формирование стоимости, как один из маркетьинговых инструментов.\n",
    "Альтернативная гипотеза - внутриигровые достижения не влияют на формирование стоимости.\n",
    "\n",
    "Примечание:\n",
    "Из-за того что каждый год какой-нибудь кризис, то цены на игры имеют тенденцию колебаться, но данных на основании которых можно построить модель в дата сете нет, по этому возьмем только один год."
   ]
  },
  {
   "cell_type": "markdown",
   "id": "a4bc521e",
   "metadata": {},
   "source": [
    "## 2. Импорт библиотек <a class='anchor' id='libs'>"
   ]
  },
  {
   "cell_type": "code",
   "execution_count": 1,
   "id": "0f91c5fd",
   "metadata": {},
   "outputs": [],
   "source": [
    "import numpy as np\n",
    "import pandas as pd\n",
    "import random as rnd\n",
    "from datetime import date\n",
    "\n",
    "from scipy.stats import normaltest, levene, f_oneway\n",
    "\n",
    "import matplotlib\n",
    "import matplotlib.pyplot as plt\n",
    "from statsmodels.graphics.gofplots import qqplot\n",
    "import seaborn as sns\n",
    "%matplotlib inline\n",
    "import warnings\n",
    "\n",
    "\n",
    "pd.set_option('display.max_columns', 50)\n",
    "warnings.filterwarnings('ignore')\n",
    "matplotlib.rcParams.update({'font.size': 14})"
   ]
  },
  {
   "cell_type": "code",
   "execution_count": 2,
   "id": "abe844ad",
   "metadata": {},
   "outputs": [
    {
     "name": "stdout",
     "output_type": "stream",
     "text": [
      "<class 'pandas.core.frame.DataFrame'>\n",
      "RangeIndex: 27075 entries, 0 to 27074\n",
      "Data columns (total 18 columns):\n",
      " #   Column            Non-Null Count  Dtype  \n",
      "---  ------            --------------  -----  \n",
      " 0   appid             27075 non-null  int64  \n",
      " 1   name              27075 non-null  object \n",
      " 2   release_date      27075 non-null  object \n",
      " 3   english           27075 non-null  int64  \n",
      " 4   developer         27075 non-null  object \n",
      " 5   publisher         27075 non-null  object \n",
      " 6   platforms         27075 non-null  object \n",
      " 7   required_age      27075 non-null  int64  \n",
      " 8   categories        27075 non-null  object \n",
      " 9   genres            27075 non-null  object \n",
      " 10  steamspy_tags     27075 non-null  object \n",
      " 11  achievements      27075 non-null  int64  \n",
      " 12  positive_ratings  27075 non-null  int64  \n",
      " 13  negative_ratings  27075 non-null  int64  \n",
      " 14  average_playtime  27075 non-null  int64  \n",
      " 15  median_playtime   27075 non-null  int64  \n",
      " 16  owners            27075 non-null  object \n",
      " 17  price             27075 non-null  float64\n",
      "dtypes: float64(1), int64(8), object(9)\n",
      "memory usage: 3.7+ MB\n"
     ]
    }
   ],
   "source": [
    "DATASET_PATH = 'steam.csv'\n",
    "df = pd.read_csv(DATASET_PATH)\n",
    "df.info()"
   ]
  },
  {
   "cell_type": "code",
   "execution_count": 3,
   "id": "99dc909c",
   "metadata": {
    "scrolled": false
   },
   "outputs": [
    {
     "data": {
      "text/html": [
       "<div>\n",
       "<style scoped>\n",
       "    .dataframe tbody tr th:only-of-type {\n",
       "        vertical-align: middle;\n",
       "    }\n",
       "\n",
       "    .dataframe tbody tr th {\n",
       "        vertical-align: top;\n",
       "    }\n",
       "\n",
       "    .dataframe thead th {\n",
       "        text-align: right;\n",
       "    }\n",
       "</style>\n",
       "<table border=\"1\" class=\"dataframe\">\n",
       "  <thead>\n",
       "    <tr style=\"text-align: right;\">\n",
       "      <th></th>\n",
       "      <th>appid</th>\n",
       "      <th>name</th>\n",
       "      <th>release_date</th>\n",
       "      <th>english</th>\n",
       "      <th>developer</th>\n",
       "      <th>publisher</th>\n",
       "      <th>platforms</th>\n",
       "      <th>required_age</th>\n",
       "      <th>categories</th>\n",
       "      <th>genres</th>\n",
       "      <th>steamspy_tags</th>\n",
       "      <th>achievements</th>\n",
       "      <th>positive_ratings</th>\n",
       "      <th>negative_ratings</th>\n",
       "      <th>average_playtime</th>\n",
       "      <th>median_playtime</th>\n",
       "      <th>owners</th>\n",
       "      <th>price</th>\n",
       "    </tr>\n",
       "  </thead>\n",
       "  <tbody>\n",
       "    <tr>\n",
       "      <th>0</th>\n",
       "      <td>10</td>\n",
       "      <td>Counter-Strike</td>\n",
       "      <td>2000-11-01</td>\n",
       "      <td>1</td>\n",
       "      <td>Valve</td>\n",
       "      <td>Valve</td>\n",
       "      <td>windows;mac;linux</td>\n",
       "      <td>0</td>\n",
       "      <td>Multi-player;Online Multi-Player;Local Multi-P...</td>\n",
       "      <td>Action</td>\n",
       "      <td>Action;FPS;Multiplayer</td>\n",
       "      <td>0</td>\n",
       "      <td>124534</td>\n",
       "      <td>3339</td>\n",
       "      <td>17612</td>\n",
       "      <td>317</td>\n",
       "      <td>10000000-20000000</td>\n",
       "      <td>7.19</td>\n",
       "    </tr>\n",
       "    <tr>\n",
       "      <th>1</th>\n",
       "      <td>20</td>\n",
       "      <td>Team Fortress Classic</td>\n",
       "      <td>1999-04-01</td>\n",
       "      <td>1</td>\n",
       "      <td>Valve</td>\n",
       "      <td>Valve</td>\n",
       "      <td>windows;mac;linux</td>\n",
       "      <td>0</td>\n",
       "      <td>Multi-player;Online Multi-Player;Local Multi-P...</td>\n",
       "      <td>Action</td>\n",
       "      <td>Action;FPS;Multiplayer</td>\n",
       "      <td>0</td>\n",
       "      <td>3318</td>\n",
       "      <td>633</td>\n",
       "      <td>277</td>\n",
       "      <td>62</td>\n",
       "      <td>5000000-10000000</td>\n",
       "      <td>3.99</td>\n",
       "    </tr>\n",
       "    <tr>\n",
       "      <th>2</th>\n",
       "      <td>30</td>\n",
       "      <td>Day of Defeat</td>\n",
       "      <td>2003-05-01</td>\n",
       "      <td>1</td>\n",
       "      <td>Valve</td>\n",
       "      <td>Valve</td>\n",
       "      <td>windows;mac;linux</td>\n",
       "      <td>0</td>\n",
       "      <td>Multi-player;Valve Anti-Cheat enabled</td>\n",
       "      <td>Action</td>\n",
       "      <td>FPS;World War II;Multiplayer</td>\n",
       "      <td>0</td>\n",
       "      <td>3416</td>\n",
       "      <td>398</td>\n",
       "      <td>187</td>\n",
       "      <td>34</td>\n",
       "      <td>5000000-10000000</td>\n",
       "      <td>3.99</td>\n",
       "    </tr>\n",
       "    <tr>\n",
       "      <th>3</th>\n",
       "      <td>40</td>\n",
       "      <td>Deathmatch Classic</td>\n",
       "      <td>2001-06-01</td>\n",
       "      <td>1</td>\n",
       "      <td>Valve</td>\n",
       "      <td>Valve</td>\n",
       "      <td>windows;mac;linux</td>\n",
       "      <td>0</td>\n",
       "      <td>Multi-player;Online Multi-Player;Local Multi-P...</td>\n",
       "      <td>Action</td>\n",
       "      <td>Action;FPS;Multiplayer</td>\n",
       "      <td>0</td>\n",
       "      <td>1273</td>\n",
       "      <td>267</td>\n",
       "      <td>258</td>\n",
       "      <td>184</td>\n",
       "      <td>5000000-10000000</td>\n",
       "      <td>3.99</td>\n",
       "    </tr>\n",
       "    <tr>\n",
       "      <th>4</th>\n",
       "      <td>50</td>\n",
       "      <td>Half-Life: Opposing Force</td>\n",
       "      <td>1999-11-01</td>\n",
       "      <td>1</td>\n",
       "      <td>Gearbox Software</td>\n",
       "      <td>Valve</td>\n",
       "      <td>windows;mac;linux</td>\n",
       "      <td>0</td>\n",
       "      <td>Single-player;Multi-player;Valve Anti-Cheat en...</td>\n",
       "      <td>Action</td>\n",
       "      <td>FPS;Action;Sci-fi</td>\n",
       "      <td>0</td>\n",
       "      <td>5250</td>\n",
       "      <td>288</td>\n",
       "      <td>624</td>\n",
       "      <td>415</td>\n",
       "      <td>5000000-10000000</td>\n",
       "      <td>3.99</td>\n",
       "    </tr>\n",
       "  </tbody>\n",
       "</table>\n",
       "</div>"
      ],
      "text/plain": [
       "   appid                       name release_date  english         developer  \\\n",
       "0     10             Counter-Strike   2000-11-01        1             Valve   \n",
       "1     20      Team Fortress Classic   1999-04-01        1             Valve   \n",
       "2     30              Day of Defeat   2003-05-01        1             Valve   \n",
       "3     40         Deathmatch Classic   2001-06-01        1             Valve   \n",
       "4     50  Half-Life: Opposing Force   1999-11-01        1  Gearbox Software   \n",
       "\n",
       "  publisher          platforms  required_age  \\\n",
       "0     Valve  windows;mac;linux             0   \n",
       "1     Valve  windows;mac;linux             0   \n",
       "2     Valve  windows;mac;linux             0   \n",
       "3     Valve  windows;mac;linux             0   \n",
       "4     Valve  windows;mac;linux             0   \n",
       "\n",
       "                                          categories  genres  \\\n",
       "0  Multi-player;Online Multi-Player;Local Multi-P...  Action   \n",
       "1  Multi-player;Online Multi-Player;Local Multi-P...  Action   \n",
       "2              Multi-player;Valve Anti-Cheat enabled  Action   \n",
       "3  Multi-player;Online Multi-Player;Local Multi-P...  Action   \n",
       "4  Single-player;Multi-player;Valve Anti-Cheat en...  Action   \n",
       "\n",
       "                  steamspy_tags  achievements  positive_ratings  \\\n",
       "0        Action;FPS;Multiplayer             0            124534   \n",
       "1        Action;FPS;Multiplayer             0              3318   \n",
       "2  FPS;World War II;Multiplayer             0              3416   \n",
       "3        Action;FPS;Multiplayer             0              1273   \n",
       "4             FPS;Action;Sci-fi             0              5250   \n",
       "\n",
       "   negative_ratings  average_playtime  median_playtime             owners  \\\n",
       "0              3339             17612              317  10000000-20000000   \n",
       "1               633               277               62   5000000-10000000   \n",
       "2               398               187               34   5000000-10000000   \n",
       "3               267               258              184   5000000-10000000   \n",
       "4               288               624              415   5000000-10000000   \n",
       "\n",
       "   price  \n",
       "0   7.19  \n",
       "1   3.99  \n",
       "2   3.99  \n",
       "3   3.99  \n",
       "4   3.99  "
      ]
     },
     "execution_count": 3,
     "metadata": {},
     "output_type": "execute_result"
    }
   ],
   "source": [
    "df.head()"
   ]
  },
  {
   "cell_type": "markdown",
   "id": "424c5b54",
   "metadata": {},
   "source": [
    "## 3. Подготовка данных <a class='anchor' id='preparations'>"
   ]
  },
  {
   "cell_type": "code",
   "execution_count": 4,
   "id": "1d5ff2cb",
   "metadata": {},
   "outputs": [],
   "source": [
    "def gaus_like(target, alpha = 0.05):\n",
    "    qqplot(target, line='s')\n",
    "    plt.show()\n",
    "\n",
    "    stat, p = normaltest(target)\n",
    "    \n",
    "    if p > alpha:\n",
    "        print('Распределение похоже на нормальное (Нулевая гипотеза не отвергается)')\n",
    "    else:\n",
    "        print('Распределение не похоже на нормальное (нулевая гипотеза отвергается)')\n",
    "    print(f'p_value = {p}')"
   ]
  },
  {
   "cell_type": "code",
   "execution_count": 5,
   "id": "833f2da8",
   "metadata": {},
   "outputs": [],
   "source": [
    "# Создаем признак наличия достижений\n",
    "df['has_achievements'] = df['achievements'] > 0"
   ]
  },
  {
   "cell_type": "code",
   "execution_count": 6,
   "id": "fca23bc9",
   "metadata": {},
   "outputs": [],
   "source": [
    "# Преобразуем дату в год выпуска\n",
    "df['release_year'] = pd.to_datetime(df.release_date).dt.year"
   ]
  },
  {
   "cell_type": "code",
   "execution_count": 7,
   "id": "73fde59a",
   "metadata": {},
   "outputs": [],
   "source": [
    "# делаем признак \"игра\"\n",
    "programs = 'Animation & Modeling|Utilities|Web Publishing|Audio Production|Design & Illustration|Education|Video Production'\n",
    "\n",
    "df['game'] = ~df['genres'].str.contains(programs, regex=True)"
   ]
  },
  {
   "cell_type": "code",
   "execution_count": 8,
   "id": "40e4595a",
   "metadata": {
    "scrolled": false
   },
   "outputs": [],
   "source": [
    "# расчитываем на основании срелнего колическва владельцев сумму дохода\n",
    "owners_min = pd.to_numeric(df['owners'].str.replace('-.*', '', regex = True))\n",
    "owners_max = pd.to_numeric(df['owners'].str.replace('.*-', '', regex = True))\n",
    "df['owners_mean'] = (owners_max -owners_min)/2 + owners_min\n",
    "\n",
    "df['revenue'] = df['price'] * df['owners_mean']"
   ]
  },
  {
   "cell_type": "code",
   "execution_count": 9,
   "id": "64d63892",
   "metadata": {},
   "outputs": [
    {
     "data": {
      "text/plain": [
       "<AxesSubplot:xlabel='revenue', ylabel='Density'>"
      ]
     },
     "execution_count": 9,
     "metadata": {},
     "output_type": "execute_result"
    },
    {
     "data": {
      "image/png": "[encoded data removed]",
      "text/plain": [
       "<Figure size 432x288 with 1 Axes>"
      ]
     },
     "metadata": {
      "needs_background": "light"
     },
     "output_type": "display_data"
    }
   ],
   "source": [
    "# для анализа возьмем только данные по не бесплатным играм выедшим в 2018 и в которые успели поиграть\n",
    "cond = ((df['game']) & \\\n",
    "        (df['price'] > 0) & \\\n",
    "        (~df['genres'].str.contains('Early Access', regex=True))  & \\\n",
    "        (df['release_year'] == 2018) & \\\n",
    "        (df['median_playtime'] > 60))\n",
    "\n",
    "target_df = df[cond]\n",
    "sns.distplot(target_df['revenue'])"
   ]
  },
  {
   "cell_type": "markdown",
   "id": "5614c9d2",
   "metadata": {},
   "source": [
    "##  4. Анализ условий применимости <a class='anchor' id='conditions'>"
   ]
  },
  {
   "cell_type": "markdown",
   "id": "ac8f9107",
   "metadata": {},
   "source": [
    "Для проверки применимости дисперсионого анализа необходимо проверить следующие утверждения\n",
    "1. Изучаемый признак нормально распределен в генеральной совокупности;\n",
    "2. Дисперсии в сравниваемых генеральных совокупностях - равенствы;\n",
    "3. Выборки случайны и независимы."
   ]
  },
  {
   "cell_type": "markdown",
   "id": "c26cb46c",
   "metadata": {},
   "source": [
    "### 1. Изучаемый признак нормально распределен в генеральной совокупности;"
   ]
  },
  {
   "cell_type": "code",
   "execution_count": 10,
   "id": "9f23018e",
   "metadata": {},
   "outputs": [
    {
     "data": {
      "text/plain": [
       "<AxesSubplot:xlabel='revenue_log', ylabel='Density'>"
      ]
     },
     "execution_count": 10,
     "metadata": {},
     "output_type": "execute_result"
    },
    {
     "data": {
      "image/png": "[encoded data removed]",
      "text/plain": [
       "<Figure size 432x288 with 1 Axes>"
      ]
     },
     "metadata": {
      "needs_background": "light"
     },
     "output_type": "display_data"
    }
   ],
   "source": [
    "# Распределение целевого показателя похоже на лог нормальное\n",
    "# Поэтому прологарифмируем целевую переменную\n",
    "\n",
    "target_df['revenue_log'] = target_df['revenue'].apply(np.log)\n",
    "sns.distplot(target_df['revenue_log'])"
   ]
  },
  {
   "cell_type": "code",
   "execution_count": 11,
   "id": "2f6b5260",
   "metadata": {
    "scrolled": true
   },
   "outputs": [
    {
     "data": {
      "image/png": "[encoded data removed]",
      "text/plain": [
       "<Figure size 432x288 with 1 Axes>"
      ]
     },
     "metadata": {
      "needs_background": "light"
     },
     "output_type": "display_data"
    },
    {
     "name": "stdout",
     "output_type": "stream",
     "text": [
      "Распределение похоже на нормальное (Нулевая гипотеза не отвергается)\n",
      "p_value = 0.1207234013902098\n"
     ]
    }
   ],
   "source": [
    "# Т.к. форма колокола прологорифмированых значений не дает полный ответ о нормальности распределения,\n",
    "# протестируем гипотезу о нормальности распределения (Н0 - распределение является нормальным).\n",
    "\n",
    "gaus_like(target_df['revenue_log'])"
   ]
  },
  {
   "cell_type": "code",
   "execution_count": 12,
   "id": "d01e98d1",
   "metadata": {},
   "outputs": [
    {
     "data": {
      "image/png": "[encoded data removed]",
      "text/plain": [
       "<Figure size 432x288 with 1 Axes>"
      ]
     },
     "metadata": {
      "needs_background": "light"
     },
     "output_type": "display_data"
    },
    {
     "name": "stdout",
     "output_type": "stream",
     "text": [
      "Распределение похоже на нормальное (Нулевая гипотеза не отвергается)\n",
      "p_value = 0.2746321036966697\n"
     ]
    }
   ],
   "source": [
    "gaus_like(target_df[target_df['has_achievements']]['revenue_log'])"
   ]
  },
  {
   "cell_type": "code",
   "execution_count": 13,
   "id": "77e88291",
   "metadata": {},
   "outputs": [
    {
     "data": {
      "image/png": "[encoded data removed]",
      "text/plain": [
       "<Figure size 432x288 with 1 Axes>"
      ]
     },
     "metadata": {
      "needs_background": "light"
     },
     "output_type": "display_data"
    },
    {
     "name": "stdout",
     "output_type": "stream",
     "text": [
      "Распределение похоже на нормальное (Нулевая гипотеза не отвергается)\n",
      "p_value = 0.07658964194617991\n"
     ]
    }
   ],
   "source": [
    "gaus_like(target_df[~target_df['has_achievements']]['revenue_log'])"
   ]
  },
  {
   "cell_type": "markdown",
   "id": "cbec5cb6",
   "metadata": {},
   "source": [
    "Утверждение о нормальном распределении признака подтверждено."
   ]
  },
  {
   "cell_type": "markdown",
   "id": "d117a8be",
   "metadata": {},
   "source": [
    "### 2. Дисперсии в сравниваемых генеральных совокупностях - равенствы;"
   ]
  },
  {
   "cell_type": "code",
   "execution_count": 14,
   "id": "fec263c8",
   "metadata": {},
   "outputs": [
    {
     "name": "stdout",
     "output_type": "stream",
     "text": [
      "p_value = 0.570796732156773\n"
     ]
    }
   ],
   "source": [
    "# для анализа дисперсий используем тест Ливене\n",
    "Sample1 = target_df[target_df['has_achievements']]['revenue_log']\n",
    "Sample2 = target_df[~target_df['has_achievements']]['revenue_log']\n",
    "\n",
    "stat, p = levene(Sample1 ,Sample2)\n",
    "print(f'p_value = {p}')"
   ]
  },
  {
   "cell_type": "markdown",
   "id": "40292eb1",
   "metadata": {},
   "source": [
    "Т.к. p_value > 0.05, считаем что утверждение о равенстве дисперсий не может быть отвергнуто"
   ]
  },
  {
   "cell_type": "markdown",
   "id": "1f2da7b2",
   "metadata": {},
   "source": [
    "### 3. Выборки случайны и независимы."
   ]
  },
  {
   "cell_type": "markdown",
   "id": "93ed314d",
   "metadata": {},
   "source": [
    "Выборки независимы исходя из способа их получения"
   ]
  },
  {
   "cell_type": "markdown",
   "id": "157679b9",
   "metadata": {},
   "source": [
    "##  5. Основной анализ <a class='anchor' id='main'>"
   ]
  },
  {
   "cell_type": "code",
   "execution_count": 15,
   "id": "706f12d5",
   "metadata": {},
   "outputs": [
    {
     "data": {
      "text/plain": [
       "0.0010104057872609624"
      ]
     },
     "execution_count": 15,
     "metadata": {},
     "output_type": "execute_result"
    }
   ],
   "source": [
    "f_stat, p_value = f_oneway(Sample1, Sample2)\n",
    "p_value"
   ]
  },
  {
   "cell_type": "markdown",
   "id": "fbce93fe",
   "metadata": {},
   "source": [
    "##  6. Вывод <a class='anchor' id='conclusion'>"
   ]
  },
  {
   "cell_type": "markdown",
   "id": "b6886836",
   "metadata": {},
   "source": [
    "По результатам проверденного анализа можно сделать вывод о том, что на уровне значимости 5%\n",
    "наличие внутриигровых достижений не оказывало влияние на формирование цены на игры выпущенные в 2018 году."
   ]
  }
 ],
 "metadata": {
  "kernelspec": {
   "display_name": "Python 3 (ipykernel)",
   "language": "python",
   "name": "python3"
  },
  "language_info": {
   "codemirror_mode": {
    "name": "ipython",
    "version": 3
   },
   "file_extension": ".py",
   "mimetype": "text/x-python",
   "name": "python",
   "nbconvert_exporter": "python",
   "pygments_lexer": "ipython3",
   "version": "3.8.6"
  }
 },
 "nbformat": 4,
 "nbformat_minor": 5
}
