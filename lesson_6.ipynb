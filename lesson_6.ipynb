{
 "cells": [
  {
   "cell_type": "code",
   "execution_count": 1,
   "id": "c06719dc",
   "metadata": {},
   "outputs": [],
   "source": [
    "import numpy as np\n",
    "import pandas as pd\n",
    "from scipy.stats import norm, t"
   ]
  },
  {
   "cell_type": "markdown",
   "id": "988a8586",
   "metadata": {},
   "source": [
    "### Задача 1\n",
    "\n",
    "Даны значения величины заработной платы заемщиков банка (zp) и значения их поведенческого кредитного скоринга (ks):  \n",
    "zp = [35, 45, 190, 200, 40, 70, 54, 150, 120, 110],  \n",
    "ks = [401, 574, 874, 919, 459, 739, 653, 902, 746, 832].  \n",
    "Найдите ковариацию этих двух величин с помощью элементарных действий, а затем с помощью функции cov из numpy  \n",
    "Полученные значения должны быть равны.  \n",
    "Найдите коэффициент корреляции Пирсона с помощью ковариации и среднеквадратичных отклонений двух признаков,  \n",
    "а затем с использованием функций из библиотек numpy и pandas.  "
   ]
  },
  {
   "cell_type": "code",
   "execution_count": 2,
   "id": "3f372c35",
   "metadata": {},
   "outputs": [
    {
     "name": "stdout",
     "output_type": "stream",
     "text": [
      "Элементарная ковариация 9157.84000\n",
      "Ковариация из NumPy 9157.84000\n",
      "и они РАВНЫ\n"
     ]
    }
   ],
   "source": [
    "zp = np.array([35, 45, 190, 200, 40, 70, 54, 150, 120, 110])\n",
    "ks = np.array([401, 574, 874, 919, 459, 739, 653, 902, 746, 832])\n",
    "\n",
    "\n",
    "s_cov = np.mean(zp * ks) - np.mean(zp) * np.mean(ks)\n",
    "np_cov = np.cov(zp, ks, ddof=0)[0][1]\n",
    "\n",
    "print (f'Элементарная ковариация {s_cov:.5f}')\n",
    "print (f'Ковариация из NumPy {np_cov:.5f}')\n",
    "if abs(s_cov - np_cov) < 0.00001:\n",
    "    print (f'и они РАВНЫ')\n",
    "else:\n",
    "    print (f'и они НЕ РАВНЫ')"
   ]
  },
  {
   "cell_type": "code",
   "execution_count": 3,
   "id": "ce80ac1d",
   "metadata": {},
   "outputs": [
    {
     "name": "stdout",
     "output_type": "stream",
     "text": [
      "Элементарный коэфициент коррелляции Пирсона ковариация 0.88749\n",
      "Коэфициент коррелляции Пирсона ковариация из NumPy 0.88749\n",
      "Коэфициент коррелляции Пирсона ковариация из Pandas 0.88749\n",
      "и они РАВНЫ\n"
     ]
    }
   ],
   "source": [
    "s_r = s_cov/ (np.std(zp) * np.std(ks))\n",
    "np_r = np.corrcoef(zp, ks)[1][0]\n",
    "\n",
    "x, y = pd.Series(zp), pd.Series(ks)\n",
    "pd_r = x.corr(y)\n",
    "\n",
    "\n",
    "print (f'Элементарный коэфициент коррелляции Пирсона ковариация {s_r:.5f}')\n",
    "print (f'Коэфициент коррелляции Пирсона ковариация из NumPy {np_r:.5f}')\n",
    "print (f'Коэфициент коррелляции Пирсона ковариация из Pandas {pd_r:.5f}')\n",
    "\n",
    "\n",
    "if abs(s_r - np_r) < 0.00001 and \\\n",
    "   abs(pd_r - np_r) < 0.00001:\n",
    "    print (f'и они РАВНЫ')\n",
    "else:\n",
    "    print (f'и они НЕ РАВНЫ')"
   ]
  },
  {
   "cell_type": "markdown",
   "id": "ba094035",
   "metadata": {},
   "source": [
    "### Задача 2\n",
    "\n",
    "Измерены значения IQ выборки студентов, обучающихся в местных технических вузах:  \n",
    "131, 125, 115, 122, 131, 115, 107, 99, 125, 111.  \n",
    "Известно, что в генеральной совокупности IQ распределен нормально.  \n",
    "Найдите доверительный интервал для математического ожидания с надежностью 0.95."
   ]
  },
  {
   "cell_type": "code",
   "execution_count": 4,
   "id": "def4cadf",
   "metadata": {},
   "outputs": [
    {
     "name": "stdout",
     "output_type": "stream",
     "text": [
      "Критерий Стьюдента равен 2.26216\n",
      "Доверительный интервал [110.55608, 125.64392]\n"
     ]
    }
   ],
   "source": [
    "# Н0 - Mu == X\n",
    "# Н1 - Mu != X => по этому используем двустороний пределе\n",
    "\n",
    "x = np.array([131, 125, 115, 122, 131, 115, 107, 99, 125, 111])\n",
    "X = round(x.mean(), 5)\n",
    "a = (1 - 0.95)\n",
    "n =  x.size\n",
    "t1 = t.ppf(a/2, n-1)\n",
    "print(f'Критерий Стьюдента равен {abs(t1):.5f}')\n",
    "sigma = x.std(ddof=1)\n",
    "\n",
    "\n",
    "low = X + (t1 * sigma/pow(n, 0.5))\n",
    "high = X - (t1 * sigma/pow(n, 0.5))\n",
    "print (f'Доверительный интервал [{low:.5f}, {high:.5f}]')"
   ]
  },
  {
   "cell_type": "markdown",
   "id": "d99d16be",
   "metadata": {},
   "source": [
    "### Задача 3\n",
    "\n",
    "Известно, что рост футболистов в сборной распределен нормально с дисперсией генеральной совокупности, равной 25 кв.см.  \n",
    "Объем выборки равен 27,  \n",
    "среднее выборочное составляет 174.2.  \n",
    "Найдите доверительный интервал для математического ожидания с надежностью 0.95."
   ]
  },
  {
   "cell_type": "code",
   "execution_count": 5,
   "id": "ee2cfb17",
   "metadata": {},
   "outputs": [
    {
     "name": "stdout",
     "output_type": "stream",
     "text": [
      "Доверительный интервал [164.77012, 183.62988]\n"
     ]
    }
   ],
   "source": [
    "X = 174.2\n",
    "a = (1 - 0.95)\n",
    "z = norm.ppf(a/2)\n",
    "sigma = 25\n",
    "n =  27\n",
    "\n",
    "low = X + (z * sigma/pow(n, 0.5))\n",
    "high = X - (z * sigma/pow(n, 0.5))\n",
    "print (f'Доверительный интервал [{low:.5f}, {high:.5f}]')"
   ]
  }
 ],
 "metadata": {
  "kernelspec": {
   "display_name": "Python 3 (ipykernel)",
   "language": "python",
   "name": "python3"
  },
  "language_info": {
   "codemirror_mode": {
    "name": "ipython",
    "version": 3
   },
   "file_extension": ".py",
   "mimetype": "text/x-python",
   "name": "python",
   "nbconvert_exporter": "python",
   "pygments_lexer": "ipython3",
   "version": "3.8.6"
  }
 },
 "nbformat": 4,
 "nbformat_minor": 5
}
