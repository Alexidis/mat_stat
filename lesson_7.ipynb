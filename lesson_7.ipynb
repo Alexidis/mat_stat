{
 "cells": [
  {
   "cell_type": "code",
   "execution_count": 1,
   "id": "700901f6",
   "metadata": {},
   "outputs": [],
   "source": [
    "import numpy as np\n",
    "import matplotlib.pyplot as plt\n",
    "%matplotlib inline"
   ]
  },
  {
   "cell_type": "markdown",
   "id": "9bda616b",
   "metadata": {},
   "source": [
    "## Задача 1\n",
    "\n",
    "Даны значения величины заработной платы заемщиков банка (zp) и значения их поведенческого кредитного скоринга (ks):  \n",
    "zp = [35, 45, 190, 200, 40, 70, 54, 150, 120, 110]  \n",
    "ks = [401, 574, 874, 919, 459, 739, 653, 902, 746, 832]  \n",
    "\n",
    "Используя математические операции, посчитать коэффициенты линейной регрессии, приняв за X заработную плату (то есть, zp - признак), а за y - значения скорингового балла (то есть, ks - целевая переменная).  \n",
    "Произвести расчет как с использованием intercept, так и без."
   ]
  },
  {
   "cell_type": "code",
   "execution_count": 2,
   "id": "8a0c5bc1",
   "metadata": {},
   "outputs": [],
   "source": [
    "zp = np.array([35, 45, 190, 200, 40, 70, 54, 150, 120, 110])\n",
    "ks = np.array([401, 574, 874, 919, 459, 739, 653, 902, 746, 832])\n",
    "\n",
    "n = zp.size"
   ]
  },
  {
   "cell_type": "code",
   "execution_count": 3,
   "id": "9dbc7b0f",
   "metadata": {},
   "outputs": [
    {
     "name": "stdout",
     "output_type": "stream",
     "text": [
      "Кофициенты линейной регрессии a = 444.17735732435955 и b = 2.6205388824027653\n",
      "Расчет значения c интерсектом \n",
      "[535.89621821 562.10160703 942.07974498 968.2851338  548.99891262\n",
      " 627.61507909 585.68645697 837.25818968 758.64202321 732.43663439]\n"
     ]
    }
   ],
   "source": [
    "# c интерсектом\n",
    "b = (n * np.sum(zp*ks) - (np.sum(zp) * np.sum(ks))) / (n * np.sum(zp**2) - np.sum(zp)**2)\n",
    "a = np.mean(ks) - b * np.mean(zp)\n",
    "\n",
    "print (f'Кофициенты линейной регрессии a = {a} и b = {b}')\n",
    "\n",
    "y_hat = a + b * zp\n",
    "print (f'Расчет значения c интерсектом \\n{y_hat}')"
   ]
  },
  {
   "cell_type": "code",
   "execution_count": 4,
   "id": "b164cbf5",
   "metadata": {},
   "outputs": [
    {
     "data": {
      "image/png": "[encoded data removed]",
      "text/plain": [
       "<Figure size 432x288 with 1 Axes>"
      ]
     },
     "metadata": {
      "needs_background": "light"
     },
     "output_type": "display_data"
    }
   ],
   "source": [
    "plt.scatter(zp, ks)\n",
    "plt.plot(zp, y_hat)\n",
    "plt.show()"
   ]
  },
  {
   "cell_type": "code",
   "execution_count": 5,
   "id": "a39e343f",
   "metadata": {},
   "outputs": [
    {
     "name": "stdout",
     "output_type": "stream",
     "text": [
      "Кофициент линейной регрессии b = 5.889820420132688\n",
      "Расчет значения без интерсектом \n",
      "[ 206.1437147   265.04191891 1119.06587983 1177.96408403  235.59281681\n",
      "  412.28742941  318.05030269  883.47306302  706.77845042  647.88024621]\n"
     ]
    }
   ],
   "source": [
    "# без интерсекта\n",
    "X = zp.reshape((n, 1))\n",
    "Y = ks.reshape((n, 1))\n",
    "# X = np.hstack([np.zeros((n, 1)), X])\n",
    "\n",
    "B = np.dot(np.linalg.inv(np.dot(X.T, X)), X.T@Y)\n",
    "a = B[0][0]\n",
    "b = B[-1][0]\n",
    "\n",
    "print (f'Кофициент линейной регрессии b = {b}')\n",
    "\n",
    "y_hat = B[0][0] * zp\n",
    "print (f'Расчет значения без интерсектом \\n{y_hat}')"
   ]
  },
  {
   "cell_type": "code",
   "execution_count": 6,
   "id": "e63cbbbf",
   "metadata": {},
   "outputs": [
    {
     "data": {
      "image/png": "[encoded data removed]",
      "text/plain": [
       "<Figure size 432x288 with 1 Axes>"
      ]
     },
     "metadata": {
      "needs_background": "light"
     },
     "output_type": "display_data"
    }
   ],
   "source": [
    "plt.scatter(zp, ks)\n",
    "plt.plot(zp, y_hat)\n",
    "plt.show()"
   ]
  },
  {
   "cell_type": "markdown",
   "id": "29242833",
   "metadata": {},
   "source": [
    "## Задача 2\n",
    "\n",
    "Посчитать коэффициент линейной регрессии при заработной плате (zp), используя градиентный спуск (без intercept)."
   ]
  },
  {
   "cell_type": "code",
   "execution_count": 7,
   "id": "365b5edc",
   "metadata": {},
   "outputs": [
    {
     "name": "stdout",
     "output_type": "stream",
     "text": [
      "Кофициент линейной регрессии b = 5.889820420132688\n",
      "Расчет значения без интерсектом \n",
      "[ 206.1437147   265.04191891 1119.06587983 1177.96408403  235.59281681\n",
      "  412.28742941  318.05030269  883.47306302  706.77845042  647.88024621]\n"
     ]
    }
   ],
   "source": [
    "b = 0.1\n",
    "alpha = 1e-5\n",
    "\n",
    "for i in range(500):\n",
    "    b -= alpha * (2/n) * np.sum((b * zp - ks) * zp)\n",
    "    \n",
    "print (f'Кофициент линейной регрессии b = {b}') \n",
    "\n",
    "y_hat = b * zp\n",
    "print (f'Расчет значения без интерсектом \\n{y_hat}')"
   ]
  },
  {
   "cell_type": "code",
   "execution_count": 8,
   "id": "a460df42",
   "metadata": {},
   "outputs": [
    {
     "data": {
      "image/png": "[encoded data removed]",
      "text/plain": [
       "<Figure size 432x288 with 1 Axes>"
      ]
     },
     "metadata": {
      "needs_background": "light"
     },
     "output_type": "display_data"
    }
   ],
   "source": [
    "plt.scatter(zp, ks)\n",
    "plt.plot(zp, y_hat)\n",
    "plt.show()"
   ]
  },
  {
   "cell_type": "markdown",
   "id": "77dd6579",
   "metadata": {},
   "source": [
    "## Задача 3\n",
    "\n",
    "*3. Произвести вычисления как в пункте 2, но с вычислением intercept.  \n",
    "Учесть, что изменение коэффициентов должно производиться на каждом шаге одновременно, \n",
    "то есть изменение одного коэффициента не должно влиять на изменение другого во время одной итерации."
   ]
  },
  {
   "cell_type": "markdown",
   "id": "4d512182",
   "metadata": {},
   "source": [
    "Имеем формулу `(np.sum(b0 + b1 * X - y)**2) / n`\n",
    "При взятии производной по b0 имеем `2 * np.sum(b0 + b1 * X - y)/n` ну а т.к. сумма деленая на колличество это средняя то делаем замену `2 * np.mean(b0 + b1 * X - y)`\n",
    "\n",
    "При взятии производной по b0 имеем `2 * np.sum(((b0 + b1 * X) - y) * X) / n` ну а т.к. сумма деленая на колличество это средняя то делаем замену `2 * np.mean(((b0 + b1 * X) - y) * X)`"
   ]
  },
  {
   "cell_type": "code",
   "execution_count": 9,
   "id": "5f204008",
   "metadata": {},
   "outputs": [
    {
     "name": "stdout",
     "output_type": "stream",
     "text": [
      "Кофициенты линейной регрессии a = 403.1556277334497 и b = 2.922476948940347\n",
      "Расчет значения c интерсектом \n",
      "[505.44232095 534.66709044 958.42624803 987.65101752 520.05470569\n",
      " 607.72901416 560.96938298 841.52717007 753.85286161 724.62809212]\n"
     ]
    }
   ],
   "source": [
    "# a можно было взять любое, но мне кажется, что это должно подходить лучше всего)\n",
    "a = np.min(ks)\n",
    "b = 0.1\n",
    "alpha = 1e-5\n",
    "\n",
    "for i in range(10000):\n",
    "    err = a + b * zp - ks\n",
    "    a -= alpha * 2 * np.mean(err)\n",
    "    b -= alpha * 2 * np.mean(err * zp)\n",
    "    \n",
    "print (f'Кофициенты линейной регрессии a = {a} и b = {b}')\n",
    "\n",
    "y_hat = a + b * zp\n",
    "print (f'Расчет значения c интерсектом \\n{y_hat}')"
   ]
  },
  {
   "cell_type": "code",
   "execution_count": 10,
   "id": "33d48fee",
   "metadata": {},
   "outputs": [
    {
     "data": {
      "image/png": "[encoded data removed]",
      "text/plain": [
       "<Figure size 432x288 with 1 Axes>"
      ]
     },
     "metadata": {
      "needs_background": "light"
     },
     "output_type": "display_data"
    }
   ],
   "source": [
    "plt.scatter(zp, ks)\n",
    "plt.plot(zp, y_hat)\n",
    "plt.show()"
   ]
  }
 ],
 "metadata": {
  "kernelspec": {
   "display_name": "Python 3 (ipykernel)",
   "language": "python",
   "name": "python3"
  },
  "language_info": {
   "codemirror_mode": {
    "name": "ipython",
    "version": 3
   },
   "file_extension": ".py",
   "mimetype": "text/x-python",
   "name": "python",
   "nbconvert_exporter": "python",
   "pygments_lexer": "ipython3",
   "version": "3.8.6"
  }
 },
 "nbformat": 4,
 "nbformat_minor": 5
}
