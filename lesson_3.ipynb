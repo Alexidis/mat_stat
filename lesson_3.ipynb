{
 "cells": [
  {
   "cell_type": "markdown",
   "id": "6de72b16",
   "metadata": {},
   "source": [
    "### Задача 1\n",
    "1. Даны значения зарплат из выборки выпускников:  \n",
    "    100, 80, 75, 77, 89, 33, 45, 25, 65, 17, 30, 24, 57, 55, 70, 75, 65, 84, 90, 150.  \n",
    "Посчитать (желательно без использования статистических методов наподобие std, var, mean)  \n",
    "    1. среднее арифметическое,  \n",
    "    1. среднее квадратичное отклонение,  \n",
    "    1. смещенную и несмещенную оценки дисперсий для данной выборки. "
   ]
  },
  {
   "cell_type": "code",
   "execution_count": 1,
   "id": "30cd695a",
   "metadata": {},
   "outputs": [],
   "source": [
    "import numpy as np\n",
    "import math"
   ]
  },
  {
   "cell_type": "code",
   "execution_count": 23,
   "id": "3ec6ca56",
   "metadata": {},
   "outputs": [
    {
     "name": "stdout",
     "output_type": "stream",
     "text": [
      " среднее арифметическое 65.3\n",
      " среднее квадратичное отклонение 30.82385\n",
      " смещенная оценка дисперсий 950.11000\n",
      " несмещенная оценка дисперсий 1000.11579\n"
     ]
    }
   ],
   "source": [
    "salaries = np.array([100, 80, 75, 77, 89, 33, 45, 25, 65, 17, 30, 24, 57, 55, 70, 75, 65, 84, 90, 150])\n",
    "\n",
    "n = len(salaries)\n",
    "mean = salaries.sum()/n\n",
    "std = np.sqrt(np.sum(np.square(salaries - mean))/n)\n",
    "var_displaced = np.sum(np.square(salaries - mean))/n\n",
    "var_unbiased = np.sum(np.square(salaries - mean))/(n-1)\n",
    "\n",
    "print(f' \\\n",
    "среднее арифметическое {mean}\\n \\\n",
    "среднее квадратичное отклонение {std:.5f}\\n \\\n",
    "смещенная оценка дисперсий {var_displaced:.5f}\\n \\\n",
    "несмещенная оценка дисперсий {var_unbiased:.5f}')"
   ]
  },
  {
   "cell_type": "markdown",
   "id": "3e11fcbd",
   "metadata": {},
   "source": [
    "### Задача 2\n",
    "В первом ящике находится 8 мячей, из которых 5 - белые.  \n",
    "Во втором ящике - 12 мячей, из которых 5 белых.  \n",
    "Из первого ящика вытаскивают случайным образом два мяча, из второго - 4.  \n",
    "Какова вероятность того, что 3 мяча белые?"
   ]
  },
  {
   "cell_type": "code",
   "execution_count": 3,
   "id": "ff88b768",
   "metadata": {},
   "outputs": [],
   "source": [
    "a_attempts = 2\n",
    "b_attempts = 4\n",
    "desirable = 3\n",
    "\n",
    "\n",
    "A_box_total = 8\n",
    "B_box_total = 12\n",
    "A_box_white = 5\n",
    "A_box_black = 3\n",
    "B_box_white = 5\n",
    "B_box_black = 7"
   ]
  },
  {
   "cell_type": "code",
   "execution_count": 24,
   "id": "ec144f7d",
   "metadata": {},
   "outputs": [
    {
     "name": "stdout",
     "output_type": "stream",
     "text": [
      "Вероятность вытащить 2 из первой корзины и 1 из второй равна 0.12626\n",
      "Вероятность вытащить 0 из первой корзины и 3 из второй равна 0.00216\n",
      "Вероятность вытащить 1 из первой корзины и 2 из второй равна 0.22727\n",
      "Общая верояность равна 0.35570\n"
     ]
    }
   ],
   "source": [
    "# через комбинаторику\n",
    "# 2 белых в первом ящике И 1 белый во втором ящике\n",
    "a_desirable = min(desirable, a_attempts)\n",
    "a_undesirable = a_attempts - a_desirable\n",
    "b_desirable = desirable - a_desirable\n",
    "b_undesirable = b_attempts - b_desirable\n",
    "p1 = math.comb(A_box_white, a_attempts)/math.comb(A_box_total, a_attempts) * \\\n",
    "     math.comb(B_box_white, b_desirable) * math.comb(B_box_black, b_undesirable)/math.comb(B_box_total, b_attempts)\n",
    "print(f'Вероятность вытащить {a_desirable} из первой корзины и {b_desirable} из второй равна {p1:.5f}')\n",
    "\n",
    "#  3 белых во втором ящике\n",
    "b_desirable = min(desirable, b_attempts)\n",
    "b_undesirable = b_attempts - b_desirable\n",
    "a_desirable = desirable - b_desirable\n",
    "a_undesirable = a_attempts - a_desirable\n",
    "p2 = math.comb(A_box_black, a_attempts)/math.comb(A_box_total, a_attempts) * \\\n",
    "     math.comb(B_box_white, 3)/math.comb(B_box_total, b_attempts)\n",
    "print(f'Вероятность вытащить {a_desirable} из первой корзины и {b_desirable} из второй равна {p2:.5f}')\n",
    "\n",
    "# 1 белый в первом ящике И 2 белых во втором ящике\n",
    "a_desirable = min(desirable, a_attempts-1)\n",
    "a_undesirable = a_attempts - a_desirable\n",
    "b_desirable = desirable - a_desirable\n",
    "b_undesirable = b_attempts - b_desirable\n",
    "p3 = math.comb(A_box_white, a_desirable) * math.comb(A_box_black, a_undesirable)/math.comb(A_box_total, a_attempts) * \\\n",
    "     math.comb(B_box_white, b_desirable) * math.comb(B_box_black, b_undesirable) / math.comb(B_box_total, b_attempts)\n",
    "print(f'Вероятность вытащить {a_desirable} из первой корзины и {b_desirable} из второй равна {p3:.5f}')\n",
    "\n",
    "p = p1 + p2 + p3\n",
    "print(f'Общая верояность равна {p:.5f}')"
   ]
  },
  {
   "cell_type": "markdown",
   "id": "70be3678",
   "metadata": {},
   "source": [
    "### Задача 3\n",
    "На соревновании по биатлону один из трех спортсменов стреляет и попадает в мишень.  \n",
    "Вероятность попадания для первого спортсмена равна 0.9, для второго — 0.8, для третьего — 0.6.  \n",
    "Найти вероятность того, что выстрел произведен:  \n",
    "1. первым спортсменом \n",
    "1. вторым спортсменом \n",
    "1. третьим спортсменом."
   ]
  },
  {
   "cell_type": "code",
   "execution_count": 31,
   "id": "8bb11e9d",
   "metadata": {},
   "outputs": [
    {
     "name": "stdout",
     "output_type": "stream",
     "text": [
      "Полная вероятность равна 0.76667\n",
      "Вероятность попадания первым спортсменом равна 0.39130\n",
      "Вероятность попадания вторым спортсменом равна 0.34783\n",
      "Вероятность попадания третьим спортсменом равна 0.26087\n"
     ]
    }
   ],
   "source": [
    "# найдем полную вероятность, а потом по формуле Байеса найдем вероятность для каждого из спортсменов\n",
    "challenger1 = 0.9\n",
    "challenger2 = 0.8\n",
    "challenger3 = 0.6\n",
    "prop1 = 1/3\n",
    "prop2 = 1/3\n",
    "prop3 = 1/3\n",
    "\n",
    "\n",
    "P_A = (challenger1*prop1 + challenger2*prop2 + challenger3*prop3)\n",
    "print(f'Полная вероятность равна {P_A:.5f}')\n",
    "\n",
    "P_B1_A = (challenger1 * prop1) / P_A\n",
    "print(f'Вероятность попадания первым спортсменом равна {P_B1_A:.5f}')\n",
    "\n",
    "P_B2_A = (challenger2 * prop2) / P_A\n",
    "print(f'Вероятность попадания вторым спортсменом равна {P_B2_A:.5f}')\n",
    "\n",
    "P_B3_A = (challenger3 * prop3) / P_A\n",
    "print(f'Вероятность попадания третьим спортсменом равна {P_B3_A:.5f}')"
   ]
  },
  {
   "cell_type": "markdown",
   "id": "a03629ca",
   "metadata": {},
   "source": [
    "### Задача 4\n",
    "В университет на факультеты A и B поступило равное количество студентов, а на факультет C студентов поступило столько же, сколько на A и B вместе.  \n",
    "Вероятность того, что студент факультета A сдаст первую сессию, равна 0.8.  \n",
    "Для студента факультета B эта вероятность равна 0.7, а для студента факультета C - 0.9.  \n",
    "Студент сдал первую сессию. Какова вероятность, что он учится:  \n",
    "1. на факультете A \n",
    "1. на факультете B \n",
    "1. на факультете C"
   ]
  },
  {
   "cell_type": "code",
   "execution_count": 32,
   "id": "92efa823",
   "metadata": {},
   "outputs": [
    {
     "name": "stdout",
     "output_type": "stream",
     "text": [
      "Полная вероятность равна 0.82500\n",
      "Студент сдавший сессию учится на факультете А с вероятностью 0.24242\n",
      "Студент сдавший сессию учится на факультете В с вероятностью 0.21212\n",
      "Студент сдавший сессию учится на факультете С с вероятностью 0.54545\n"
     ]
    }
   ],
   "source": [
    "# найдем полную вероятность, а потом по формуле Байеса найдем вероятность для каждого из спортсменов\n",
    "challenger1 = 0.8\n",
    "challenger2 = 0.7\n",
    "challenger3 = 0.9\n",
    "prop1 = 0.25\n",
    "prop2 = 0.25\n",
    "prop3 = 0.5\n",
    "\n",
    "\n",
    "P_A = (challenger1*prop1 + challenger2*prop2 + challenger3*prop3)\n",
    "print(f'Полная вероятность равна {P_A:.5f}')\n",
    "\n",
    "P_B1_A = (challenger1 * prop1) / P_A\n",
    "print(f'Студент сдавший сессию учится на факультете А с вероятностью {P_B1_A:.5f}')\n",
    "\n",
    "P_B2_A = (challenger2 * prop2) / P_A\n",
    "print(f'Студент сдавший сессию учится на факультете В с вероятностью {P_B2_A:.5f}')\n",
    "\n",
    "P_B3_A = (challenger3 * prop3) / P_A\n",
    "print(f'Студент сдавший сессию учится на факультете С с вероятностью {P_B3_A:.5f}')"
   ]
  },
  {
   "cell_type": "markdown",
   "id": "6961a453",
   "metadata": {},
   "source": [
    "### Задача 5\n",
    "Устройство состоит из трех деталей.  \n",
    "Для первой детали вероятность выйти из строя в первый месяц равна 0.1, для второй - 0.2, для третьей - 0.25.  \n",
    "Какова вероятность того, что в первый месяц выйдут из строя:  \n",
    "1. все детали \n",
    "1. только две детали\n",
    "1. хотя бы одна деталь\n",
    "1. от одной до двух деталей?"
   ]
  },
  {
   "cell_type": "code",
   "execution_count": 47,
   "id": "eacbe3a4",
   "metadata": {},
   "outputs": [
    {
     "name": "stdout",
     "output_type": "stream",
     "text": [
      "Вероятность события \"из строя выйдут все детали\" равна 0.005\n",
      "Вероятность события \"из строя выйдут две детали\" равна 0.080\n",
      "Вероятность события \"ни одна деталь не выйдет из строя\" равна 0.540\n",
      "Вероятность события \"из строя выйдет хотя бы одна деталь\" равна 0.460\n",
      "Вероятность события \"из строя выйдут одна или две детали\" равна 0.455\n"
     ]
    }
   ],
   "source": [
    "challenger1 = 0.1\n",
    "challenger2 = 0.2\n",
    "challenger3 = 0.25\n",
    "\n",
    "P_A1 = challenger1 * challenger2 * challenger3\n",
    "print(f'Вероятность события \"из строя выйдут все детали\" равна {P_A1:.3f}')\n",
    "\n",
    "# выйдет из строя (1 И 2) или (1 И 3) или (2 И 3)\n",
    "P_A2 = challenger1 * challenger2 * (1 - challenger3) + \\\n",
    "       challenger1 * (1 - challenger2) * challenger3 + \\\n",
    "       (1 - challenger1) * challenger2 * challenger3\n",
    "print(f'Вероятность события \"из строя выйдут две детали\" равна {P_A2:.3f}')\n",
    "\n",
    "# найдем вероятность события \"ни одна деталь не выйдет из строя\"\n",
    "P_good_work = (1 - challenger1) * (1 - challenger2) * (1 - challenger3)\n",
    "print(f'Вероятность события \"ни одна деталь не выйдет из строя\" равна {P_good_work:.3f}')\n",
    "\n",
    "P_A3 = 1 - P_good_work\n",
    "print(f'Вероятность события \"из строя выйдет хотя бы одна деталь\" равна {P_A3:.3f}')\n",
    "\n",
    "# вычтем из полной вероятности сумму вероятностей событий \"все детали выйдут из строя\" и \"ни одна не выйдет из строя\"\n",
    "P_A4 = 1 - (P_A1 + ((1 - challenger1) * (1 - challenger2) * (1 - challenger3)))\n",
    "print(f'Вероятность события \"из строя выйдут одна или две детали\" равна {P_A4:.3f}')"
   ]
  }
 ],
 "metadata": {
  "kernelspec": {
   "display_name": "Python 3 (ipykernel)",
   "language": "python",
   "name": "python3"
  },
  "language_info": {
   "codemirror_mode": {
    "name": "ipython",
    "version": 3
   },
   "file_extension": ".py",
   "mimetype": "text/x-python",
   "name": "python",
   "nbconvert_exporter": "python",
   "pygments_lexer": "ipython3",
   "version": "3.8.6"
  }
 },
 "nbformat": 4,
 "nbformat_minor": 5
}
