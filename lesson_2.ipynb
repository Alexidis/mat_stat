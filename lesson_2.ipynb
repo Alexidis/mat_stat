{
 "cells": [
  {
   "cell_type": "code",
   "execution_count": 1,
   "id": "ad28a7ea",
   "metadata": {},
   "outputs": [],
   "source": [
    "import math"
   ]
  },
  {
   "cell_type": "code",
   "execution_count": 2,
   "id": "d6aed263",
   "metadata": {},
   "outputs": [],
   "source": [
    "def bi_distr(n, k, p):\n",
    "    \"\"\"Биномиальное распределение\n",
    "    \"\"\"\n",
    "    q = 1 - p\n",
    "    l = n - k\n",
    "    return math.comb(n, k) * pow(p, k)  * pow(q, l)"
   ]
  },
  {
   "cell_type": "code",
   "execution_count": 3,
   "id": "c6514db5",
   "metadata": {},
   "outputs": [],
   "source": [
    "def puason_distr(n, k, p):\n",
    "    \"\"\"Биномиальное распределение\n",
    "    \"\"\"\n",
    "    lamda = n * p\n",
    "    return pow(lamda, k) * pow(math.e, -lamda)/ math.factorial(k)"
   ]
  },
  {
   "cell_type": "markdown",
   "id": "4dd824d4",
   "metadata": {},
   "source": [
    "***Задача 1***  \n",
    "Вероятность того, что стрелок попадет в мишень, выстрелив один раз, равна 0.8.   \n",
    "Стрелок выстрелил 100 раз.  \n",
    "Найдите вероятность того, что стрелок попадет в цель ровно 85 раз.  "
   ]
  },
  {
   "cell_type": "code",
   "execution_count": 4,
   "id": "7d42e9c7",
   "metadata": {},
   "outputs": [
    {
     "name": "stdout",
     "output_type": "stream",
     "text": [
      "Вероятность попасть ровно 85 равна 0.048062\n"
     ]
    }
   ],
   "source": [
    "P = bi_distr(100, 85, 0.8)\n",
    "print(f'Вероятность попасть ровно 85 равна {P:.5}')"
   ]
  },
  {
   "cell_type": "markdown",
   "id": "90f5f012",
   "metadata": {},
   "source": [
    "***Задача 2***  \n",
    "Вероятность того, что лампочка перегорит в течение первого дня эксплуатации, равна 0.0004.  \n",
    "В жилом комплексе после ремонта в один день включили 5000 новых лампочек.  \n",
    "1. Какова вероятность, что ни одна из них не перегорит в первый день?  \n",
    "1. Какова вероятность, что перегорят ровно две?  "
   ]
  },
  {
   "cell_type": "code",
   "execution_count": 5,
   "id": "e22ff206",
   "metadata": {},
   "outputs": [
    {
     "name": "stdout",
     "output_type": "stream",
     "text": [
      "Вероятность, что ни одна из них не перегорит в первый день равна 0.13534\n"
     ]
    }
   ],
   "source": [
    "# Т.к вероятность наступления события очень маленькая то решаем через распределение Пуасона\n",
    "\n",
    "P = puason_distr(5000, 0, 0.0004)\n",
    "print(f'Вероятность, что ни одна из них не перегорит в первый день равна {P:.5}')"
   ]
  },
  {
   "cell_type": "code",
   "execution_count": 6,
   "id": "3ec038ab",
   "metadata": {},
   "outputs": [
    {
     "name": "stdout",
     "output_type": "stream",
     "text": [
      "Вероятность, что перегорят ровно две равна 0.27067\n"
     ]
    }
   ],
   "source": [
    "P = puason_distr(5000, 2,  0.0004)\n",
    "print(f'Вероятность, что перегорят ровно две равна {P:.5}')"
   ]
  },
  {
   "cell_type": "markdown",
   "id": "39d39e69",
   "metadata": {},
   "source": [
    "***Задача 3***  \n",
    "Монету подбросили 144 раза.  \n",
    "Какова вероятность, что орел выпадет ровно 70 раз?  "
   ]
  },
  {
   "cell_type": "code",
   "execution_count": 7,
   "id": "facb4b7c",
   "metadata": {},
   "outputs": [
    {
     "name": "stdout",
     "output_type": "stream",
     "text": [
      "Вероятность, что орел выпадет ровно 70 раз равна 0.062812\n"
     ]
    }
   ],
   "source": [
    "P = bi_distr(144, 70, 0.5)\n",
    "print(f'Вероятность, что орел выпадет ровно 70 раз равна {P:.5}')"
   ]
  },
  {
   "cell_type": "markdown",
   "id": "be051787",
   "metadata": {},
   "source": [
    "***Задача 4***  \n",
    "В первом ящике находится 10 мячей, из которых 7 - белые.  \n",
    "Во втором ящике - 11 мячей, из которых 9 белых.  \n",
    "Из каждого ящика вытаскивают случайным образом по два мяча.  \n",
    "1. Какова вероятность того, что все мячи белые?  \n",
    "1. Какова вероятность того, что ровно два мяча белые?  \n",
    "1. Какова вероятность того, что хотя бы один мяч белый?  "
   ]
  },
  {
   "cell_type": "code",
   "execution_count": 8,
   "id": "9b1b3b93",
   "metadata": {},
   "outputs": [],
   "source": [
    "attempts = 2\n",
    "\n",
    "A_box_total = 10\n",
    "B_box_total = 11\n",
    "A_box_white = 7\n",
    "A_box_black = 3\n",
    "B_box_white = 9\n",
    "B_box_black = 2"
   ]
  },
  {
   "cell_type": "markdown",
   "id": "de429fd8",
   "metadata": {},
   "source": [
    "***1. Какова вероятность того, что все мячи белые?***"
   ]
  },
  {
   "cell_type": "code",
   "execution_count": 9,
   "id": "899bd6fa",
   "metadata": {},
   "outputs": [
    {
     "name": "stdout",
     "output_type": "stream",
     "text": [
      "Вероятность, что все мячи белые равна 0.30545\n"
     ]
    }
   ],
   "source": [
    "# взятие мяча из одной коробки зависимые события\n",
    "# взятие мяча из двух коробок совместимые события\n",
    "# т.к. события должны произойти одновременно, умножаем все вероятности друг на друга\n",
    "P = 1\n",
    "for attempt in range(0, attempts):\n",
    "    P_A_B1 = (A_box_white - attempt)/(A_box_total - attempt)\n",
    "    P_A_B2 = (B_box_white - attempt)/(B_box_total - attempt)\n",
    "    P *= P_A_B1 * P_A_B2\n",
    "\n",
    "print(f'Вероятность, что все мячи белые равна {P:.5}')"
   ]
  },
  {
   "cell_type": "code",
   "execution_count": 10,
   "id": "980d51a4",
   "metadata": {},
   "outputs": [
    {
     "name": "stdout",
     "output_type": "stream",
     "text": [
      "Вероятность, что все мячи белые равна 0.30545\n"
     ]
    }
   ],
   "source": [
    "# тоже самое без циклов\n",
    "P = (7/10 * 6/9) * (9/11 * 8/10)\n",
    "print(f'Вероятность, что все мячи белые равна {P:.5}')"
   ]
  },
  {
   "cell_type": "markdown",
   "id": "ae6306c8",
   "metadata": {},
   "source": [
    "***2. Какова вероятность того, что ровно два мяча белые?***"
   ]
  },
  {
   "cell_type": "code",
   "execution_count": 11,
   "id": "5dee7f20",
   "metadata": {},
   "outputs": [
    {
     "name": "stdout",
     "output_type": "stream",
     "text": [
      "Вероятность, что все мячи белые равна 0.20485\n"
     ]
    }
   ],
   "source": [
    "# т.к. может пройти только одно из событий, то складываем вероятности\n",
    "\n",
    "# 2 белых достали из 1-го ящика\n",
    "# в первой попытке достали 1 белый из 1-го ящика и 1 из второго\n",
    "# в первой попытке достали 1 белый из 1-го ящика, а во второй 1 из второго\n",
    "# во второй попытке достали 1 белый из 1-го ящика, а в первой 1 из второго\n",
    "# во второй попытке достали 1 белый из 1-го ящика и 1 из второго\n",
    "# 2 белых достали из 2-го ящика\n",
    "P = (A_box_white/A_box_total * (A_box_white-1)/(A_box_total-1) * B_box_black/B_box_total * (B_box_black-1)/(B_box_total-1)) + \\\n",
    "    (A_box_white/A_box_total * A_box_black/(A_box_total-1) * B_box_white/B_box_total * B_box_black/(B_box_total-1)) + \\\n",
    "    (A_box_white/A_box_total * A_box_black/(A_box_total-1) * B_box_black/B_box_total * B_box_white/(B_box_total-1)) + \\\n",
    "    (A_box_black/A_box_total * A_box_white/(A_box_total-1) * B_box_white/B_box_total * B_box_black/(B_box_total-1)) + \\\n",
    "    (A_box_black/A_box_total * A_box_white/(A_box_total-1) * B_box_black/B_box_total * B_box_white/(B_box_total-1)) + \\\n",
    "    (A_box_black/A_box_total * (A_box_black-1)/(A_box_total-1) * B_box_white/B_box_total * (B_box_white-1)/(B_box_total-1))         \n",
    "\n",
    "print(f'Вероятность, что все мячи белые равна {P:.5}')"
   ]
  },
  {
   "cell_type": "code",
   "execution_count": 12,
   "id": "cbe85540",
   "metadata": {},
   "outputs": [
    {
     "name": "stdout",
     "output_type": "stream",
     "text": [
      "Вероятность, что все мячи белые равна 0.20485\n"
     ]
    }
   ],
   "source": [
    "# тоже самое, но числами\n",
    "P = (7/10 * 6/9 * 2/11 * 1/10) + \\\n",
    "    (7/10 * 3/9 * 9/11 * 2/10) + \\\n",
    "    (7/10 * 3/9 * 2/11 * 9/10) + \\\n",
    "    (3/10 * 7/9 * 9/11 * 2/10) + \\\n",
    "    (3/10 * 7/9 * 2/11 * 9/10) + \\\n",
    "    (3/10 * 2/9 * 9/11 * 8/10)  \n",
    "\n",
    "print(f'Вероятность, что все мячи белые равна {P:.5}')"
   ]
  },
  {
   "cell_type": "markdown",
   "id": "86356e6f",
   "metadata": {},
   "source": [
    "***3. Какова вероятность того, что хотя бы один мяч белый?***"
   ]
  },
  {
   "cell_type": "code",
   "execution_count": 13,
   "id": "09557d19",
   "metadata": {
    "scrolled": true
   },
   "outputs": [
    {
     "name": "stdout",
     "output_type": "stream",
     "text": [
      "Вероятность, что все мячи белые равна 0.99879\n"
     ]
    }
   ],
   "source": [
    "# находим вероятность того, выпадут только черные шары\n",
    "P0 = (3/10 * 2/9 * 2/11 * 1/10) \n",
    "# Следовательно все остальные случаи, это когда есть хотя бы 1 белый шар\n",
    "P = 1 - P0\n",
    "    \n",
    "\n",
    "print(f'Вероятность, что все мячи белые равна {P:.5}')"
   ]
  }
 ],
 "metadata": {
  "kernelspec": {
   "display_name": "Python 3 (ipykernel)",
   "language": "python",
   "name": "python3"
  },
  "language_info": {
   "codemirror_mode": {
    "name": "ipython",
    "version": 3
   },
   "file_extension": ".py",
   "mimetype": "text/x-python",
   "name": "python",
   "nbconvert_exporter": "python",
   "pygments_lexer": "ipython3",
   "version": "3.8.6"
  }
 },
 "nbformat": 4,
 "nbformat_minor": 5
}
